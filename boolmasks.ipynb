{
  "nbformat": 4,
  "nbformat_minor": 0,
  "metadata": {
    "colab": {
      "provenance": [],
      "authorship_tag": "ABX9TyPknTCc84y5zNycPo5mph1+"
    },
    "kernelspec": {
      "name": "python3",
      "display_name": "Python 3"
    },
    "language_info": {
      "name": "python"
    }
  },
  "cells": [
    {
      "cell_type": "code",
      "source": [
        "import os\n",
        "import cv2\n",
        "import numpy as np"
      ],
      "metadata": {
        "id": "t5d7e4IGT_4h"
      },
      "execution_count": null,
      "outputs": []
    },
    {
      "cell_type": "code",
      "source": [
        "def create_a_mask(image_path, output_path):\n",
        "    # Load the image in BGR format\n",
        "    image = cv2.imread(image_path)\n",
        "\n",
        "    # Split into B, G, R channels\n",
        "    b, g, r = cv2.split(image)\n",
        "\n",
        "    lower_bound=200\n",
        "    upper_bound=255\n",
        "\n",
        "    # Create an empty mask with 4 channels (B, G, R, and combined mask)\n",
        "    mask = np.zeros((image.shape[0], image.shape[1], image.shape[2] + 1), dtype=np.uint8)\n",
        "\n",
        "    # Create binary masks for each color channel within the specified range\n",
        "    mask_b = cv2.inRange(b, lower_bound, upper_bound)\n",
        "    mask_g = cv2.inRange(g, lower_bound, upper_bound)\n",
        "    mask_r = cv2.inRange(r, lower_bound, upper_bound)\n",
        "\n",
        "    # Assign 1 to the corresponding mask channels where the condition is met\n",
        "    mask[:,:,0][mask_b > 0] = 1\n",
        "    mask[:,:,1][mask_g > 0] = 1\n",
        "    mask[:,:,2][mask_r > 0] = 1\n",
        "\n",
        "    # Combine the individual channel masks into the 4th channel\n",
        "    mask[:,:,3] = cv2.bitwise_or(cv2.bitwise_or(mask_b, mask_g), mask_r) / 255\n",
        "\n",
        "    # Save the mask\n",
        "    cv2.imwrite(output_path, mask)"
      ],
      "metadata": {
        "id": "lH_HZtY2nITd"
      },
      "execution_count": null,
      "outputs": []
    },
    {
      "cell_type": "code",
      "source": [
        "kitchen_path = '/full_data/additional/kitchen/input_Cam040.png'\n",
        "kitchen_output_path = '/full_data/additional_invalid_area/kitchen/input_Cam040_invalid_ver2.png'\n",
        "museum_path = '/full_data/additional/museum/input_Cam040.png'\n",
        "museum_output_path = '/full_data/additional_invalid_area/museum/input_Cam040_invalid_ver2.png'\n",
        "vinyl_path = '/full_data/additional/vinyl/input_Cam040.png'\n",
        "vinyl_output_path = '/full_data/additional_invalid_area/vinyl/input_Cam040_invalid_ver2.png'\n",
        "\n",
        "# Create directories if they do not exist\n",
        "os.makedirs(os.path.dirname(kitchen_output_path), exist_ok=True)\n",
        "os.makedirs(os.path.dirname(museum_output_path), exist_ok=True)\n",
        "os.makedirs(os.path.dirname(vinyl_output_path), exist_ok=True)\n",
        "\n",
        "create_a_mask(kitchen_path, kitchen_output_path)\n",
        "create_a_mask(museum_path, museum_output_path)\n",
        "create_a_mask(vinyl_path, vinyl_output_path)"
      ],
      "metadata": {
        "id": "LUjCOUVxYecd"
      },
      "execution_count": null,
      "outputs": []
    }
  ]
}